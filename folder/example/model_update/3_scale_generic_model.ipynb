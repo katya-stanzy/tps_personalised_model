{
 "cells": [
  {
   "attachments": {},
   "cell_type": "markdown",
   "metadata": {},
   "source": [
    "### +++ static +++"
   ]
  },
  {
   "cell_type": "code",
   "execution_count": 1,
   "metadata": {},
   "outputs": [
    {
     "data": {
      "text/plain": [
       "'c:\\\\Users\\\\User\\\\OneDrive\\\\Documents\\\\WORK\\\\JRF_GaitAnalysis\\\\modelling_paper\\\\repo\\\\folder\\\\model_update'"
      ]
     },
     "execution_count": 1,
     "metadata": {},
     "output_type": "execute_result"
    }
   ],
   "source": [
    "import opensim as osim\n",
    "import os\n",
    "from simFunctions import runProgram, scaleOptimalForceSubjectSpecific\n",
    "# from stan_utils import subject_specific_isometric_force\n",
    "import pandas as pd\n",
    "os.getcwd()"
   ]
  },
  {
   "attachments": {},
   "cell_type": "markdown",
   "metadata": {},
   "source": [
    "# Udate Scaling XML\n",
    "\n",
    "This file uses scaling scheme that is already given in scaling_setting.xml.\n",
    "\n",
    "For walking, the model is scaled following distances between external markers and muscle forces are scaled by a factor calculated with mass and height of the subject relative the mass and the height of the generic model."
   ]
  },
  {
   "cell_type": "code",
   "execution_count": null,
   "metadata": {},
   "outputs": [],
   "source": [
    "# IMPORTANT : THESE SHOULD BE PERSON-SPECIFIC\n",
    "mass_text = '52.4'\n",
    "height_text = '1.60'\n",
    "age_text = '33'\n",
    "\n",
    "# path to experimental .trc file : <marker_file>\n",
    "experimental_markers = r'../motion_lab/static/Static03/task.trc'\n",
    "#r\"C:\\Users\\User\\OneDrive\\Documents\\WORK\\JRF_GaitAnalysis\\modelling_paper\\repo\\folder\\motion_lab\\static\\Static03\\task.trc\"\n",
    "static_df = pd.read_csv(experimental_markers, delimiter='\\t', skiprows=3, header=[0,1], index_col=0)\n"
   ]
  },
  {
   "cell_type": "code",
   "execution_count": 25,
   "metadata": {},
   "outputs": [],
   "source": [
    "# paths to and names of files\n",
    "\n",
    "# <model_file>\n",
    "path_to_generic_model = '../templates/RajagopalModified_generic_copy.osim'\n",
    "\n",
    "# <marker_set_file>\n",
    "path_to_generic_marker_set =  '../templates/generic_skin_markers.xml'# 'unassigned' '../templates/' generic_markers_with_joints.xml\n",
    "\n",
    "# <time_range>'\n",
    "time_range = f' 0 {list(static_df.loc[static_df.shape[0], \"Time\"])[0] }'\n",
    "\n",
    "# <output_scale_file>\n",
    "path_to_model = os.path.join(\"..\", 'final_results', 'generic_scaled')\n",
    "if not os.path.exists(path_to_model):\n",
    "    print(path_to_model)\n",
    "    os.makedirs(path_to_model)\n",
    "\n",
    "output_scale_file = os.path.join(path_to_model, 'output_scale_file.txt')\n",
    "\n",
    "output_model_file = os.path.join(path_to_model, f'scaled_model.osim')  # f'scaled_model_{ind}_joints.osim'\n",
    "\n",
    "output_scaling_settings = os.path.join(path_to_model, f'scaling_setting.xml')"
   ]
  },
  {
   "cell_type": "code",
   "execution_count": 26,
   "metadata": {},
   "outputs": [],
   "source": [
    "import xml.etree.ElementTree as ET\n",
    "\n",
    "# parse the .xml with markers in body frames\n",
    "scaling_tree=ET.parse(\"../templates/scaling_setting.xml\")\n",
    "scaling_root = scaling_tree.getroot()\n",
    "\n",
    "for generic_model in scaling_root.iter('model_file'):\n",
    "    generic_model.text = path_to_generic_model\n",
    "\n",
    "for generic_marker_set in scaling_root.iter('marker_set_file'):\n",
    "    generic_marker_set.text = path_to_generic_marker_set\n",
    "\n",
    "for exp_markers in scaling_root.iter('marker_file'):\n",
    "    exp_markers.text = experimental_markers\n",
    "\n",
    "for time in scaling_root.iter('time_range'):\n",
    "    time.text = time_range\n",
    "\n",
    "for output in scaling_root.iter('output_model_file'):\n",
    "    output.text = output_model_file\n",
    "\n",
    "for scale in scaling_root.iter('output_scale_file'):\n",
    "    scale.text = output_scale_file\n",
    "\n",
    "for generic_marker_set in scaling_root.iter('marker_set_file'):\n",
    "    generic_marker_set.text = path_to_generic_marker_set\n",
    "\n",
    "for exp_markers in scaling_root.iter('marker_file'):\n",
    "    exp_markers.text = experimental_markers\n",
    "\n",
    "for time in scaling_root.iter('time_range'):\n",
    "    time.text = time_range\n",
    "\n",
    "for output in scaling_root.iter('output_model_file'):\n",
    "    output.text = output_model_file\n",
    "\n",
    "for scale in scaling_root.iter('output_scale_file'):\n",
    "    scale.text = output_scale_file\n",
    "\n",
    "for marker_placer in scaling_root.iter('MarkerPlacer'):\n",
    "    apply = marker_placer.find('apply')\n",
    "    apply.text = 'true'"
   ]
  },
  {
   "cell_type": "code",
   "execution_count": 27,
   "metadata": {},
   "outputs": [],
   "source": [
    "for mass in scaling_root.iter('mass'):\n",
    "\tmass.text = mass_text\n",
    "\n",
    "for height in scaling_root.iter('height'):\n",
    "\theight.text = height_text\n",
    "\n",
    "for age in scaling_root.iter('age'):\n",
    "\tage.text = age_text"
   ]
  },
  {
   "cell_type": "code",
   "execution_count": 28,
   "metadata": {},
   "outputs": [],
   "source": [
    "scaling_tree.write(output_scaling_settings)"
   ]
  },
  {
   "attachments": {},
   "cell_type": "markdown",
   "metadata": {},
   "source": [
    "## 2.1 Scale model to markers"
   ]
  },
  {
   "cell_type": "code",
   "execution_count": 29,
   "metadata": {},
   "outputs": [
    {
     "name": "stdout",
     "output_type": "stream",
     "text": [
      "[info] Preparing to run ScaleTool.\n",
      "\n",
      "[info] Processing subject Rajagopal-generic-scaled...\n",
      "\n",
      "[info] Step 1: Loading generic model\n",
      "\n",
      "[info] Loaded model RajagopalModifiedGeneric from file c:\\Users\\User\\OneDrive\\Documents\\WORK\\JRF_GaitAnalysis\\modelling_paper\\repo\\folder\\templates\\RajagopalModified_generic_copy.osim\n",
      "\n",
      "[warning] Couldn't find file 'r_pelvis.vtp'.\n",
      "\n",
      "[warning] Couldn't find file 'l_pelvis.vtp'.\n",
      "\n",
      "[warning] Couldn't find file 'sacrum.vtp'.\n",
      "\n",
      "[warning] Couldn't find file 'r_femur.vtp'.\n",
      "\n",
      "[warning] Couldn't find file 'r_tibia.vtp'.\n",
      "\n",
      "[warning] Couldn't find file 'r_fibula.vtp'.\n",
      "\n",
      "[warning] Couldn't find file 'r_patella.vtp'.\n",
      "\n",
      "[warning] Couldn't find file 'r_talus.vtp'.\n",
      "\n",
      "[warning] Couldn't find file 'r_foot.vtp'.\n",
      "\n",
      "[warning] Couldn't find file 'r_bofoot.vtp'.\n",
      "\n",
      "[warning] Couldn't find file 'l_femur.vtp'.\n",
      "\n",
      "[warning] Couldn't find file 'l_tibia.vtp'.\n",
      "\n",
      "[warning] Couldn't find file 'l_fibula.vtp'.\n",
      "\n",
      "[warning] Couldn't find file 'l_patella.vtp'.\n",
      "\n",
      "[warning] Couldn't find file 'l_talus.vtp'.\n",
      "\n",
      "[warning] Couldn't find file 'l_foot.vtp'.\n",
      "\n",
      "[warning] Couldn't find file 'l_bofoot.vtp'.\n",
      "\n",
      "[warning] Couldn't find file 'hat_spine.vtp'.\n",
      "\n",
      "[warning] Couldn't find file 'hat_jaw.vtp'.\n",
      "\n",
      "[warning] Couldn't find file 'hat_skull.vtp'.\n",
      "\n",
      "[warning] Couldn't find file 'hat_ribs_scap.vtp'.\n",
      "\n",
      "[info] Loading marker set from '../templates/generic_skin_markers.xml'.\n",
      "\n",
      "[info] Updated markers in model RajagopalModifiedGeneric\n",
      "\n",
      "[info] Step 2: Scaling generic model\n",
      "\n",
      "[info] Loaded marker file ../motion_lab/static/Static03/task.trc (40 markers, 445 frames)\n",
      "\n",
      "[info] Measurement 'pelvis width'\n",
      "\n",
      "[info] \tpair 0 (LASI, RASI): model = 0.256, experimental = 0.222911\n",
      "\n",
      "[info] \tpair 1 (LPSI, RPSI): model = 0.0880006, experimental = 0.0854253\n",
      "\n",
      "[info] \toverall scale factor = 0.920740\n",
      "\n",
      "[info] Measurement 'pelvis height'\n",
      "\n",
      "[info] \tpair 0 (LASI, LMKNE): model = 0.527838, experimental = 0.458841\n",
      "\n",
      "[info] \tpair 1 (RASI, RMKNE): model = 0.527838, experimental = 0.456198\n",
      "\n",
      "[info] \toverall scale factor = 0.86678\n",
      "\n",
      "[info] Measurement 'torso height'\n",
      "\n",
      "[info] \tpair 0 (PE01, C7): model = 0.439607, experimental = 0.400213\n",
      "\n",
      "[info] \toverall scale factor = 0.910389\n",
      "\n",
      "[info] Measurement 'torso depth'\n",
      "\n",
      "[info] \tpair 0 (T10, STRN): model = 0.197721, experimental = 0.221967\n",
      "\n",
      "[info] \toverall scale factor = 1.12263\n",
      "\n",
      "[info] Measurement 'femur_r_length'\n",
      "\n",
      "[info] \tpair 0 (RASI, RMKNE): model = 0.527838, experimental = 0.456198\n",
      "\n",
      "[info] \tpair 1 (RGT, RKNE): model = 0.388711, experimental = 0.34918\n",
      "\n",
      "[info] \toverall scale factor = 0.881289\n",
      "\n",
      "[info] Measurement 'femur_l_length'\n",
      "\n",
      "[info] \tpair 0 (LASI, LMKNE): model = 0.527838, experimental = 0.458841\n",
      "\n",
      "[info] \tpair 1 (LGT, LKNE): model = 0.388711, experimental = 0.347020\n",
      "\n",
      "[info] \toverall scale factor = 0.881014\n",
      "\n",
      "[info] Measurement 'tibia_r_length'\n",
      "\n",
      "[info] \tpair 0 (RKNE, RANK): model = 0.410459, experimental = 0.404129\n",
      "\n",
      "[info] \tpair 1 (RMKNE, RHEE): model = 0.433377, experimental = 0.447315\n",
      "\n",
      "[info] \toverall scale factor = 1.00837\n",
      "\n",
      "[info] Measurement 'tibia_l_length'\n",
      "\n",
      "[info] \tpair 0 (LKNE, LANK): model = 0.410459, experimental = 0.381486\n",
      "\n",
      "[info] \tpair 1 (LMKNE, LHEE): model = 0.433377, experimental = 0.433126\n",
      "\n",
      "[info] \toverall scale factor = 0.964416\n",
      "\n",
      "[info] Measurement 'foot_horiz_l'\n",
      "\n",
      "[info] \tpair 0 (LHEE, LTOE): model = 0.212119, experimental = 0.194699\n",
      "\n",
      "[info] \toverall scale factor = 0.917879\n",
      "\n",
      "[info] Measurement 'foot_horiz_r'\n",
      "\n",
      "[info] \tpair 0 (RHEE, RTOE): model = 0.204784, experimental = 0.189669\n",
      "\n",
      "[info] \toverall scale factor = 0.926194\n",
      "\n",
      "[info] Measurement 'foot_vertic_l'\n",
      "\n",
      "[info] \tpair 0 (LHEE, LANK): model = 0.0872756, experimental = 0.0723467\n",
      "\n",
      "[info] \tpair 1 (LHEE, LMMA): model = 0.0986505, experimental = 0.0870646\n",
      "\n",
      "[info] \toverall scale factor = 0.855751\n",
      "\n",
      "[info] Measurement 'foot_vertic_r'\n",
      "\n",
      "[info] \tpair 0 (RHEE, RANK): model = 0.0872756, experimental = 0.0677337\n",
      "\n",
      "[info] \tpair 1 (RHEE, RMMA): model = 0.0998134, experimental = 0.0861021\n",
      "\n",
      "[info] \toverall scale factor = 0.819361\n",
      "\n",
      "[info] Wrote model file '..\\final_results\\generic_scaled\\scaled_model.osim' from model.\n",
      "\n",
      "[info] Wrote scale file '..\\final_results\\generic_scaled\\output_scale_file.txt' for model Rajagopal-generic-scaled.\n",
      "\n",
      "[info] Step 3: Placing markers on model\n",
      "\n",
      "[info] Loaded marker file ../motion_lab/static/Static03/task.trc (40 markers, 445 frames)\n",
      "\n",
      "[info] Averaged frames from time 0.0 to 2.22 in ../motion_lab/static/Static03/task.trc (frames 1 to 445)\n",
      "\n",
      "[info] Deleted 0 unused markers from model Rajagopal-generic-scaled.\n",
      "\n",
      "[info] Frame at (t = 0.0):\t total squared error = 0.0265074, marker error: RMS = 0.0325622, max = 0.0788739 (T10)\n",
      "\n",
      "[info] Moved markers in model Rajagopal-generic-scaled to match locations in marker file '../motion_lab/static/Static03/task.trc'.\n",
      "\n",
      "[info] Wrote model file '..\\final_results\\generic_scaled\\scaled_model.osim' from model Rajagopal-generic-scaled.\n",
      "\n",
      "\n",
      "Return code:  None \n",
      "\n"
     ]
    }
   ],
   "source": [
    "cmdprog = 'opensim-cmd'\n",
    "cmdtool = 'run-tool'\n",
    "cmdfile = output_scaling_settings\n",
    "cmdfull = [cmdprog, cmdtool, cmdfile]\n",
    "rc = runProgram(cmdfull)"
   ]
  },
  {
   "cell_type": "markdown",
   "metadata": {},
   "source": [
    "## Scale model muscle forces to height and weight"
   ]
  },
  {
   "cell_type": "code",
   "execution_count": 30,
   "metadata": {},
   "outputs": [],
   "source": [
    "generic_model = osim.Model(path_to_generic_model)\n",
    "model=osim.Model(output_model_file)\n",
    "scaled = scaleOptimalForceSubjectSpecific(generic_model, model, 1.60, float(height_text))\n"
   ]
  },
  {
   "cell_type": "markdown",
   "metadata": {},
   "source": [
    "# Set <ignore_tendon_compliance> and <ignore_activation_dynamics> to true"
   ]
  },
  {
   "cell_type": "code",
   "execution_count": 31,
   "metadata": {},
   "outputs": [],
   "source": [
    "muscle_set = scaled.getMuscles()\n",
    "for i in range(muscle_set.getSize()):\n",
    "    current = muscle_set.get(i)\n",
    "    current.set_ignore_activation_dynamics(True)\n",
    "    current.set_ignore_tendon_compliance(True)"
   ]
  },
  {
   "cell_type": "markdown",
   "metadata": {},
   "source": [
    "## Increase Pelvis Tilt"
   ]
  },
  {
   "cell_type": "code",
   "execution_count": 11,
   "metadata": {},
   "outputs": [],
   "source": [
    "# pelvis_coordinates = model.getCoordinateSet().get('pelvis_tilt')\n",
    "# pelvis_coordinates.setRangeMax(4)\n",
    "# pelvis_coordinates.setRangeMin(-4)"
   ]
  },
  {
   "cell_type": "markdown",
   "metadata": {},
   "source": [
    "## Save the model"
   ]
  },
  {
   "cell_type": "code",
   "execution_count": 32,
   "metadata": {},
   "outputs": [
    {
     "data": {
      "text/plain": [
       "True"
      ]
     },
     "execution_count": 32,
     "metadata": {},
     "output_type": "execute_result"
    }
   ],
   "source": [
    "scaled.printToXML(output_model_file)"
   ]
  },
  {
   "cell_type": "markdown",
   "metadata": {},
   "source": [
    "## Scale muscle fibres"
   ]
  },
  {
   "cell_type": "code",
   "execution_count": 13,
   "metadata": {},
   "outputs": [],
   "source": [
    "# from fibre_scale_script import *\n",
    "# # define models\n",
    "# generic_model = '../templates/RajagopalModified_generic_copy.osim'\n",
    "# model_to_update = output_model_file\n",
    "# updated_model = output_model_file\n",
    "\n",
    "# # run scripts\n",
    "# osimModel_opt, SimInfo = optimMuscleParams(generic_model, model_to_update, 2, '3a_osim_markers/logging')\n",
    "\n",
    "# # printing the optimized model\n",
    "# osimModel_opt.printToXML(updated_model)"
   ]
  },
  {
   "cell_type": "markdown",
   "metadata": {},
   "source": [
    "# Add joint center markers and save another model"
   ]
  },
  {
   "cell_type": "code",
   "execution_count": 33,
   "metadata": {},
   "outputs": [],
   "source": [
    "model = osim.Model(output_model_file)\n",
    "for body in model.getBodySet():\n",
    "    if body.getName() == 'torso':\n",
    "        torso_body = body\n",
    "\n",
    "    if body.getName() == 'pelvis':\n",
    "        pelvis_body = body\n",
    "    if body.getName() == 'femur_r':\n",
    "        femur_r_body = body\n",
    "    if body.getName() == 'femur_l':\n",
    "        femur_l_body = body\n",
    "\n",
    "    if body.getName() == 'patella_r':\n",
    "        patella_r_body = body\n",
    "    if body.getName() == 'patella_l':\n",
    "        patella_l_body = body\n",
    "\n",
    "    if body.getName() == 'tibia_r':\n",
    "        tibia_r_body = body\n",
    "    if body.getName() == 'tibia_l':\n",
    "        tibia_l_body = body\n",
    "\n",
    "    if body.getName() == 'talus_r':\n",
    "        talus_r_body = body\n",
    "    if body.getName() == 'talus_l':\n",
    "        talus_l_body = body"
   ]
  },
  {
   "cell_type": "code",
   "execution_count": 34,
   "metadata": {},
   "outputs": [],
   "source": [
    "torso_m = osim.Marker(\"torso_origin_in_pelvis\", torso_body, osim.Vec3(0,0,0))\n",
    "femur_l_m = osim.Marker(\"femur_l_center_in_pelvis\", femur_l_body, osim.Vec3(0,0,0))\n",
    "femur_r_m = osim.Marker(\"femur_r_center_in_pelvis\", femur_r_body, osim.Vec3(0,0,0))\n",
    "patella_l_m = osim.Marker(\"patella_l_in_femur_l\", patella_l_body, osim.Vec3(0,0,0))\n",
    "patella_r_m = osim.Marker(\"patella_r_in_femur_r\", patella_r_body, osim.Vec3(0,0,0))\n",
    "tibia_l_m = osim.Marker(\"knee_l_center_in_femur_l\", tibia_l_body, osim.Vec3(0,0,0))\n",
    "tibia_r_m = osim.Marker(\"knee_r_center_in_femur_r\", tibia_r_body, osim.Vec3(0,0,0))\n",
    "talus_l_m = osim.Marker(\"talus_l_center_in_tibia\", talus_l_body, osim.Vec3(0,0,0))\n",
    "talus_r_m = osim.Marker(\"talus_r_center_in_tibia\", talus_r_body, osim.Vec3(0,0,0))\n",
    "\n",
    "model.addMarker(torso_m)\n",
    "model.addMarker(femur_l_m)\n",
    "model.addMarker(femur_r_m)\n",
    "model.addMarker(patella_l_m)\n",
    "model.addMarker(patella_r_m)\n",
    "model.addMarker(tibia_l_m)\n",
    "model.addMarker(tibia_r_m)\n",
    "model.addMarker(talus_l_m)\n",
    "model.addMarker(talus_r_m)\n",
    "\n",
    "model.finalizeConnections()"
   ]
  },
  {
   "cell_type": "code",
   "execution_count": 35,
   "metadata": {},
   "outputs": [],
   "source": [
    "state = model.initSystem()\n",
    "\n",
    "torso_m.changeFramePreserveLocation(state, pelvis_body)\n",
    "femur_l_m.changeFramePreserveLocation(state, pelvis_body)\n",
    "femur_r_m.changeFramePreserveLocation(state, pelvis_body)\n",
    "patella_l_m.changeFramePreserveLocation(state, femur_l_body)\n",
    "patella_r_m.changeFramePreserveLocation(state, femur_r_body)\n",
    "tibia_l_m.changeFramePreserveLocation(state, femur_l_body)\n",
    "tibia_r_m.changeFramePreserveLocation(state, femur_r_body)\n",
    "talus_l_m.changeFramePreserveLocation(state, tibia_l_body)\n",
    "talus_r_m.changeFramePreserveLocation(state, tibia_r_body)"
   ]
  },
  {
   "cell_type": "code",
   "execution_count": 37,
   "metadata": {},
   "outputs": [
    {
     "data": {
      "text/plain": [
       "True"
      ]
     },
     "execution_count": 37,
     "metadata": {},
     "output_type": "execute_result"
    }
   ],
   "source": [
    "model.finalizeConnections()\n",
    "model.printToXML(os.path.join(path_to_model, f'scaled_model_joints.osim'))"
   ]
  }
 ],
 "metadata": {
  "kernelspec": {
   "display_name": "py311",
   "language": "python",
   "name": "python3"
  },
  "language_info": {
   "codemirror_mode": {
    "name": "ipython",
    "version": 3
   },
   "file_extension": ".py",
   "mimetype": "text/x-python",
   "name": "python",
   "nbconvert_exporter": "python",
   "pygments_lexer": "ipython3",
   "version": "3.11.11"
  },
  "orig_nbformat": 4
 },
 "nbformat": 4,
 "nbformat_minor": 2
}

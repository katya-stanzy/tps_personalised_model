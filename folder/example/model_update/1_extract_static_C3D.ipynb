{
 "cells": [
  {
   "cell_type": "code",
   "execution_count": 1,
   "metadata": {},
   "outputs": [],
   "source": [
    "import opensim as osim\n",
    "import os\n",
    "from simFunctions import *\n",
    "from stan_utils import *\n",
    "import pandas as pd\n"
   ]
  },
  {
   "attachments": {},
   "cell_type": "markdown",
   "metadata": {},
   "source": [
    "# Export C3D markers, ground reaction forces and EMG"
   ]
  },
  {
   "attachments": {},
   "cell_type": "markdown",
   "metadata": {},
   "source": [
    "## Folder Iterator Class"
   ]
  },
  {
   "cell_type": "code",
   "execution_count": 2,
   "metadata": {},
   "outputs": [],
   "source": [
    "\"\"\"\"\n",
    "\n",
    "This class is built on the basis of Dimitar Stansv's https://github.com/mitkof6/opensim_automated_pipeline .\n",
    "It only works together with Diitar's utility functions, included as 'stan_utils' in this repository.\n",
    "The class requires that a list of folders that contain C3D files is provided, along with a working directory and session directory.\n",
    "If there is only one file, please arrange it in a folder and supply as a list with one element, as given in the example below.\n",
    "The class handles static and dynamic trials equally.\n",
    "\n",
    "\"\"\"\n",
    "\n",
    "class C3DFolderIterator:\n",
    "    def __init__(self, list_of_folders, working_dir, session_dir, stance_threshold=50, plates=3, debug=False, import_emg=False, plot=False):\n",
    "        self.folders = list_of_folders\n",
    "        self.input_dir = os.path.join(working_dir, session_dir)\n",
    "        self.output_dir = os.path.join(working_dir, session_dir)\n",
    "        self.stance_threshold = stance_threshold\n",
    "        self.plates = plates\n",
    "        self.debug = debug\n",
    "        self.import_emg = import_emg\n",
    "        self.plot = plot\n",
    "\n",
    "    def _prepare_labels(self):\n",
    "        \"\"\"Prepare force labels based on the number of plates.\"\"\"\n",
    "        labels_wrench = [\n",
    "            'ground_force_vx', 'ground_force_vy', 'ground_force_vz',\n",
    "            'ground_force_px', 'ground_force_py', 'ground_force_pz',\n",
    "            'ground_torque_x', 'ground_torque_y', 'ground_torque_z'\n",
    "        ]\n",
    "        labels = [\n",
    "            f'plate{i}_{label}' \n",
    "            for i in range(1, self.plates + 1) \n",
    "            for label in labels_wrench\n",
    "        ]\n",
    "        return labels\n",
    "\n",
    "    def _process_markers(self, markers_task, output_path):\n",
    "        \"\"\"Process and save marker data.\"\"\"\n",
    "        rotate_data_table(markers_task, [1, 0, 0], -90)\n",
    "        rotate_data_table(markers_task, [0, 1, 0], -90)\n",
    "        osim.TRCFileAdapter().write(markers_task, output_path)\n",
    "\n",
    "    def _process_emg(self, analog_task, output_dir):\n",
    "        \"\"\"Process and export EMG data.\"\"\"\n",
    "        time = analog_task.getIndependentColumn()\n",
    "        columns = analog_task.getColumnLabels()\n",
    "        emg_columns = [col[len('EMG Channels.'):] for col in columns if 'EMG' in col]\n",
    "        emg_col_nums = [i for i, col in enumerate(columns) if 'EMG' in col]\n",
    "        emg_data = analog_task.getMatrixBlock(0, emg_col_nums[0], len(time), len(emg_col_nums))\n",
    "        emg_sto = create_opensim_storage(time, emg_data, emg_columns)\n",
    "        emg_sto.setName('EMG')\n",
    "        emg_sto.printResult(emg_sto, 'task_emg', output_dir, 0.01, '.mot')\n",
    "\n",
    "    def _process_forces(self, forces_task):\n",
    "        \"\"\"Process and refine force data.\"\"\"\n",
    "        rotate_data_table(forces_task, [1, 0, 0], -90)\n",
    "        rotate_data_table(forces_task, [0, 1, 0], -90)\n",
    "        for i in range(1, self.plates + 1):\n",
    "            mm_to_m(forces_task, f'p{i}')\n",
    "            mm_to_m(forces_task, f'm{i}')\n",
    "        return forces_task\n",
    "\n",
    "    def _refine_ground_reaction_forces(self, forces_task):\n",
    "        \"\"\"Refine ground reaction forces and collect step data.\"\"\"\n",
    "        t0_list, tf_list, p_l_list = [], [], []\n",
    "        for i in range(1, self.plates + 1):\n",
    "            t0, tf, p_l = refine_ground_reaction_wrench_ks(\n",
    "                forces_task, [f'f{i}', f'p{i}', f'm{i}'],\n",
    "                stance_threshold=self.stance_threshold, tau=0.001, debug=self.debug\n",
    "            )\n",
    "            t0_list.append(t0)\n",
    "            tf_list.append(tf)\n",
    "            p_l_list.append(p_l)\n",
    "        return t0_list, tf_list, p_l_list\n",
    "\n",
    "    def _export_data(self, forces_task, output_dir, labels_force):\n",
    "        \"\"\"Export force data.\"\"\"\n",
    "        time = forces_task.getIndependentColumn()\n",
    "        forces_task = forces_task.flatten(['x', 'y', 'z'])\n",
    "        force_sto = create_opensim_storage(time, forces_task.getMatrix(), labels_force)\n",
    "        force_sto.setName('GRF')\n",
    "        force_sto.printResult(force_sto, 'task_grf', output_dir, 0.01, '.mot')\n",
    "\n",
    "    def _plot_results(self, output_dir):\n",
    "        \"\"\"Plot task results.\"\"\"\n",
    "        plot_sto_file(os.path.join(output_dir, 'task.trc'), os.path.join(output_dir, 'task.pdf'), 3)\n",
    "        plot_sto_file(os.path.join(output_dir, 'task_grf.mot'), os.path.join(output_dir, 'task_grf.pdf'), 3)\n",
    "        if self.import_emg:\n",
    "            plot_sto_file(os.path.join(output_dir, 'task_emg.mot'), os.path.join(output_dir, 'task_emg.pdf'), 3)\n",
    "\n",
    "    def apply(self):\n",
    "        \"\"\"Process each folder.\"\"\"\n",
    "        labels_force = self._prepare_labels()\n",
    "        adapter = osim.C3DFileAdapter()\n",
    "        adapter.setLocationForForceExpression(osim.C3DFileAdapter.ForceLocation_CenterOfPressure)\n",
    "\n",
    "        for folder in self.folders:\n",
    "            task_file = f'{folder}.c3d'\n",
    "            input_path = os.path.join(self.input_dir, folder, task_file)\n",
    "            output_dir = os.path.join(self.output_dir, folder)\n",
    "\n",
    "            # Read data\n",
    "            task_data = adapter.read(input_path)\n",
    "            markers_task = adapter.getMarkersTable(task_data)\n",
    "            forces_task = adapter.getForcesTable(task_data)\n",
    "            analog_task = adapter.getAnalogDataTable(task_data)\n",
    "\n",
    "            # Process markers\n",
    "            self._process_markers(markers_task, os.path.join(output_dir, 'task.trc'))\n",
    "\n",
    "            # Process EMG\n",
    "            if self.import_emg:\n",
    "                self._process_emg(analog_task, output_dir)\n",
    "\n",
    "            # Process forces\n",
    "            forces_task = self._process_forces(forces_task)\n",
    "\n",
    "            # Refine forces and save steps\n",
    "            t0_list, tf_list, p_l_list = self._refine_ground_reaction_forces(forces_task)\n",
    "            pd.DataFrame({'t0': t0_list, 'tf': tf_list, 'p_l': p_l_list}).to_csv(os.path.join(output_dir, 'df_steps.csv'))\n",
    "\n",
    "            # Export forces\n",
    "            self._export_data(forces_task, output_dir, labels_force)\n",
    "\n",
    "            # Plot results\n",
    "            if self.plot:\n",
    "                self._plot_results(output_dir)\n"
   ]
  },
  {
   "attachments": {},
   "cell_type": "markdown",
   "metadata": {},
   "source": [
    "## Parent directory\n",
    "Check the parent directory: working directory and session directory (if present) will have to be relative to it."
   ]
  },
  {
   "cell_type": "code",
   "execution_count": 3,
   "metadata": {},
   "outputs": [
    {
     "data": {
      "text/plain": [
       "'c:\\\\Users\\\\User\\\\OneDrive\\\\Documents\\\\WORK\\\\JRF_GaitAnalysis\\\\modelling_paper\\\\repo\\\\folder\\\\model_update'"
      ]
     },
     "execution_count": 3,
     "metadata": {},
     "output_type": "execute_result"
    }
   ],
   "source": [
    "os.getcwd()"
   ]
  },
  {
   "cell_type": "markdown",
   "metadata": {},
   "source": [
    "### Static"
   ]
  },
  {
   "cell_type": "code",
   "execution_count": 4,
   "metadata": {},
   "outputs": [],
   "source": [
    "working_dir = '../motion_lab'\n",
    "session_dir = 'static' \n",
    "trial_names = ['Static03'] # static may have only one file or may have more"
   ]
  },
  {
   "cell_type": "code",
   "execution_count": 6,
   "metadata": {},
   "outputs": [],
   "source": [
    "list_of_folders = trial_names\n",
    "walking_iterator = C3DFolderIterator(list_of_folders, working_dir, session_dir, stance_threshold=30, plates=3, debug=False, import_emg = False, plot=False)\n",
    "walking_iterator.apply()"
   ]
  }
 ],
 "metadata": {
  "kernelspec": {
   "display_name": "py311",
   "language": "python",
   "name": "python3"
  },
  "language_info": {
   "codemirror_mode": {
    "name": "ipython",
    "version": 3
   },
   "file_extension": ".py",
   "mimetype": "text/x-python",
   "name": "python",
   "nbconvert_exporter": "python",
   "pygments_lexer": "ipython3",
   "version": "3.11.11"
  },
  "orig_nbformat": 4
 },
 "nbformat": 4,
 "nbformat_minor": 2
}

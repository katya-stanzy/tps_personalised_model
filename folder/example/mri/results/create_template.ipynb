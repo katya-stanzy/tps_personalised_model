{
 "cells": [
  {
   "cell_type": "code",
   "execution_count": 1,
   "id": "be386dcd",
   "metadata": {},
   "outputs": [],
   "source": [
    "import opensim as osim\n",
    "import pandas as pd\n",
    "import numpy as np\n",
    "import os"
   ]
  },
  {
   "cell_type": "code",
   "execution_count": 2,
   "id": "c6551a3b",
   "metadata": {},
   "outputs": [],
   "source": [
    "def extract_marker_locations(model_path):\n",
    "    # Load the model\n",
    "    model = osim.Model(model_path)\n",
    "    \n",
    "    # Initialize the system and get the default state\n",
    "    state = model.initSystem()\n",
    "    \n",
    "    # Get the marker set from the model\n",
    "    marker_set = model.getMarkerSet()\n",
    "    \n",
    "    # Create a dictionary to store marker locations\n",
    "    marker_locations = {}\n",
    "    \n",
    "    # Loop through all markers and get their locations in ground frame\n",
    "    for i in range(marker_set.getSize()):\n",
    "        marker = marker_set.get(i)\n",
    "        \n",
    "        # Get the marker's location in ground frame\n",
    "        location = marker.getLocationInGround(state)\n",
    "        \n",
    "        # Convert SimTK::Vec3 to a regular Python list or numpy array if needed\n",
    "        location_array = np.array([location.get(0), location.get(1), location.get(2)])\n",
    "        \n",
    "        # Store in dictionary with marker name as key\n",
    "        marker_locations[marker.getName()] = location_array\n",
    "    \n",
    "    return marker_locations\n",
    "\n",
    "\n",
    "def data_frame(dict) -> pd.DataFrame:\n",
    "    mrkrs_new = []\n",
    "    for mrkr, location in dict.items():\n",
    "        dic = {}\n",
    "        dic['name'] = mrkr\n",
    "        dic['r'] = location[0]*1000\n",
    "        dic['a'] = location[1]*1000\n",
    "        dic['s'] = location[2]*1000\n",
    "        mrkrs_new.append(dic)\n",
    "\n",
    "    # create the dataframe that contains all information\n",
    "    osim_bone_markers_df = pd.DataFrame.from_dict(mrkrs_new)\n",
    "    osim_bone_markers_df.set_index('name', inplace=True)\n",
    "    return osim_bone_markers_df"
   ]
  },
  {
   "cell_type": "code",
   "execution_count": 3,
   "id": "039e9f64",
   "metadata": {},
   "outputs": [],
   "source": [
    "# load the generic model with bony markers from the template folder\n",
    "generic_model_with_bone_landmarks = os.path.join(f'../../', 'templates','RajagopalModified_generic_copy_with_bone_markers.osim')\n",
    "\n",
    "# load the generic model without the bony markers from the template folder of the individual\n",
    "generic_model = os.path.join(f'../../', 'templates','RajagopalModified_generic_copy.osim')\n",
    "\n"
   ]
  },
  {
   "cell_type": "code",
   "execution_count": 4,
   "id": "4f6b59f5",
   "metadata": {},
   "outputs": [],
   "source": [
    "# load landmarks in ground frame for each model\n",
    "markers_with_bone_in_ground = extract_marker_locations(generic_model_with_bone_landmarks)\n",
    "markers_skin_only_in_ground = extract_marker_locations(generic_model)\n",
    "\n",
    "# create a list of bone landmarks\n",
    "bone_landmark_names = [name for name in markers_with_bone_in_ground.keys() if name not in markers_skin_only_in_ground.keys()]"
   ]
  },
  {
   "cell_type": "code",
   "execution_count": null,
   "id": "569d37eb",
   "metadata": {},
   "outputs": [],
   "source": [
    "# dictinary of the landmarks of interest\n",
    "bone_markers_in_ground = {name: markers_with_bone_in_ground[name] for name in bone_landmark_names}"
   ]
  },
  {
   "cell_type": "code",
   "execution_count": 6,
   "id": "3163cc84",
   "metadata": {},
   "outputs": [],
   "source": [
    "bone_markers_in_ground_df = data_frame(bone_markers_in_ground)\n",
    "bone_markers_in_ground_df.to_csv(os.path.join(f'../../', 'templates', 'bone_markers_in_ground.csv'), index=True)"
   ]
  }
 ],
 "metadata": {
  "kernelspec": {
   "display_name": "py311",
   "language": "python",
   "name": "python3"
  },
  "language_info": {
   "codemirror_mode": {
    "name": "ipython",
    "version": 3
   },
   "file_extension": ".py",
   "mimetype": "text/x-python",
   "name": "python",
   "nbconvert_exporter": "python",
   "pygments_lexer": "ipython3",
   "version": "3.11.11"
  }
 },
 "nbformat": 4,
 "nbformat_minor": 5
}

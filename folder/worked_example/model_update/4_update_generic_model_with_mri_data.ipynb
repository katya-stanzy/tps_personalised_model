{
 "cells": [
  {
   "cell_type": "code",
   "execution_count": 1,
   "metadata": {},
   "outputs": [],
   "source": [
    "import numpy as np\n",
    "import opensim as osim\n",
    "import xml.etree.ElementTree as ET\n",
    "import numpy as np\n",
    "import pandas as pd\n",
    "import os"
   ]
  },
  {
   "cell_type": "code",
   "execution_count": 2,
   "metadata": {},
   "outputs": [],
   "source": [
    "# Keeping pandas from truncating long strings\n",
    "pd.set_option('display.max_colwidth', 10000000)"
   ]
  },
  {
   "cell_type": "markdown",
   "metadata": {},
   "source": [
    "## Paths"
   ]
  },
  {
   "cell_type": "code",
   "execution_count": 3,
   "metadata": {},
   "outputs": [
    {
     "data": {
      "text/plain": [
       "'c:\\\\Users\\\\User\\\\OneDrive\\\\Documents\\\\WORK\\\\JRF_GaitAnalysis\\\\modelling_paper\\\\repo\\\\folder\\\\model_update'"
      ]
     },
     "execution_count": 3,
     "metadata": {},
     "output_type": "execute_result"
    }
   ],
   "source": [
    "os.getcwd()"
   ]
  },
  {
   "cell_type": "code",
   "execution_count": 4,
   "metadata": {},
   "outputs": [],
   "source": [
    "# path to generic scaled model\n",
    "scaled_model = f\"../final_results/generic_scaled/scaled_model_joints.osim\""
   ]
  },
  {
   "cell_type": "code",
   "execution_count": 5,
   "metadata": {},
   "outputs": [],
   "source": [
    "# path to the new personalized model\n",
    "new_model_name = f'tps_transformed.osim'\n",
    "path_to_model = os.path.join(\"..\", 'final_results', 'personalized')\n",
    "if not os.path.exists(path_to_model):\n",
    "    print(path_to_model)\n",
    "    os.makedirs(path_to_model)\n",
    "new_model = os.path.join(path_to_model, new_model_name)"
   ]
  },
  {
   "cell_type": "code",
   "execution_count": 6,
   "metadata": {},
   "outputs": [],
   "source": [
    "# IMPORTANT : THESE SHOULD BE PERSON-SPECIFIC\n",
    "mass_text = '52.4'\n",
    "height_text = '1.60'\n",
    "age_text = '33'\n",
    "\n",
    "# path to experimental .trc file : <marker_file>\n",
    "experimental_markers = r'../motion_lab/static/Static03/task.trc'\n",
    "static_df = pd.read_csv(experimental_markers, delimiter='\\t', skiprows=3, header=[0,1], index_col=0)"
   ]
  },
  {
   "cell_type": "code",
   "execution_count": 7,
   "metadata": {},
   "outputs": [],
   "source": [
    "# path to TPS results\n",
    "tps_folder = os.path.join(\"..\", 'final_results')"
   ]
  },
  {
   "cell_type": "markdown",
   "metadata": {},
   "source": [
    "## Update Scaled Model with TPS data"
   ]
  },
  {
   "cell_type": "markdown",
   "metadata": {},
   "source": [
    "### Import Transformed Markers"
   ]
  },
  {
   "cell_type": "code",
   "execution_count": 8,
   "metadata": {},
   "outputs": [],
   "source": [
    "markers_df = pd.concat([pd.read_csv(os.path.join(tps_folder, 'pelvis_bone_markers.csv'), index_col=0),\n",
    "            pd.read_csv(os.path.join(tps_folder, 'femur_l_bone_markers.csv'), index_col=0),\n",
    "            pd.read_csv(os.path.join(tps_folder, 'femur_r_bone_markers.csv'), index_col=0),\n",
    "            pd.read_csv(os.path.join(tps_folder, 'patella_l_bone_markers.csv'), index_col=0),\n",
    "            pd.read_csv(os.path.join(tps_folder, 'patella_r_bone_markers.csv'), index_col=0),\n",
    "            pd.read_csv(os.path.join(tps_folder, 'tibia_l_bone_markers.csv'), index_col=0),\n",
    "            pd.read_csv(os.path.join(tps_folder, 'tibia_r_bone_markers.csv'), index_col=0)])\n"
   ]
  },
  {
   "cell_type": "code",
   "execution_count": 9,
   "metadata": {},
   "outputs": [],
   "source": [
    "markers_df = markers_df.set_index('name')\n",
    "markers_df.to_csv(os.path.join(tps_folder, 'markers_transformed.csv'))"
   ]
  },
  {
   "cell_type": "markdown",
   "metadata": {},
   "source": [
    "### Import Transformed Muscle Paths"
   ]
  },
  {
   "cell_type": "code",
   "execution_count": 10,
   "metadata": {},
   "outputs": [],
   "source": [
    "mscles_df = pd.concat([pd.read_csv(os.path.join(tps_folder, 'pelvis_muscle_paths.csv'), index_col=0),\n",
    "            pd.read_csv(os.path.join(tps_folder, 'femur_l_muscle_paths.csv'), index_col=0),\n",
    "            pd.read_csv(os.path.join(tps_folder, 'femur_r_muscle_paths.csv'), index_col=0),\n",
    "            pd.read_csv(os.path.join(tps_folder, 'patella_l_muscle_paths.csv'), index_col=0),\n",
    "            pd.read_csv(os.path.join(tps_folder, 'patella_r_muscle_paths.csv'), index_col=0),\n",
    "            pd.read_csv(os.path.join(tps_folder, 'tibia_l_muscle_paths.csv'), index_col=0),\n",
    "            pd.read_csv(os.path.join(tps_folder, 'tibia_r_muscle_paths.csv'), index_col=0)])\n",
    "mscles_df = mscles_df.set_index('name')"
   ]
  },
  {
   "cell_type": "markdown",
   "metadata": {},
   "source": [
    "### Import Transformed Wrapping Surfaces"
   ]
  },
  {
   "cell_type": "code",
   "execution_count": 11,
   "metadata": {},
   "outputs": [],
   "source": [
    "wrp_df  = pd.concat([pd.read_csv(os.path.join(tps_folder, 'pelvis_wrap_translations.csv'), index_col=0),\n",
    "            pd.read_csv(os.path.join(tps_folder, 'femur_l_wrap_translations.csv'), index_col=0),\n",
    "            pd.read_csv(os.path.join(tps_folder, 'femur_r_wrap_translations.csv'), index_col=0),\n",
    "            pd.read_csv(os.path.join(tps_folder, 'tibia_l_wrap_translations.csv'), index_col=0),\n",
    "            pd.read_csv(os.path.join(tps_folder, 'tibia_r_wrap_translations.csv'), index_col=0)])\n",
    "wrp_df = wrp_df.set_index('name')\n",
    "wrp_df.to_csv(os.path.join(tps_folder, 'wrp_transformed.csv'))"
   ]
  },
  {
   "cell_type": "markdown",
   "metadata": {},
   "source": [
    "### Import transformed Skin Markers"
   ]
  },
  {
   "cell_type": "code",
   "execution_count": 12,
   "metadata": {},
   "outputs": [],
   "source": [
    "skin_df = pd.concat([pd.read_csv(os.path.join(tps_folder, 'pelvis_skin_markers.csv'), index_col=0),\n",
    "            pd.read_csv(os.path.join(tps_folder, 'femur_l_skin_markers.csv'), index_col=0),\n",
    "            pd.read_csv(os.path.join(tps_folder, 'femur_r_skin_markers.csv'), index_col=0),\n",
    "            pd.read_csv(os.path.join(tps_folder, 'tibia_l_skin_markers.csv'), index_col=0),\n",
    "            pd.read_csv(os.path.join(tps_folder, 'tibia_r_skin_markers.csv'), index_col=0)])\n",
    "skin_df = skin_df.set_index('name')\n",
    "skin_df.to_csv(os.path.join(tps_folder, 'skin_transformed.csv'))"
   ]
  },
  {
   "cell_type": "markdown",
   "metadata": {},
   "source": [
    "### Parse current scaled model"
   ]
  },
  {
   "cell_type": "code",
   "execution_count": 13,
   "metadata": {},
   "outputs": [],
   "source": [
    "tree=ET.parse(scaled_model)\n",
    "root = tree.getroot()"
   ]
  },
  {
   "cell_type": "markdown",
   "metadata": {},
   "source": [
    "### Update reference geometry"
   ]
  },
  {
   "cell_type": "code",
   "execution_count": 14,
   "metadata": {},
   "outputs": [],
   "source": [
    "ref_geom_dic = {'body': [], 'Mesh name' : [], 'Mesh file' : []}\n",
    "\n",
    "ref_geom_dic['body'].append(\"pelvis\"); ref_geom_dic['Mesh name'].append(\"pelvis_geom_1\"); ref_geom_dic['Mesh file'].append(os.path.join('bones\\\\r_pelvis.stl'))\n",
    "ref_geom_dic['body'].append(\"pelvis\"); ref_geom_dic['Mesh name'].append(\"pelvis_geom_2\"); ref_geom_dic['Mesh file'].append(os.path.join('bones\\\\l_pelvis.stl'))\n",
    "ref_geom_dic['body'].append(\"pelvis\"); ref_geom_dic['Mesh name'].append(\"pelvis_geom_3\"); ref_geom_dic['Mesh file'].append(os.path.join('bones\\\\sacrum.stl'))\n",
    "\n",
    "ref_geom_dic['body'].append(\"femur_r\"); ref_geom_dic['Mesh name'].append(\"femur_r_geom_1\"); ref_geom_dic['Mesh file'].append(os.path.join('bones\\\\femur_r.stl'))\n",
    "ref_geom_dic['body'].append(\"femur_l\"); ref_geom_dic['Mesh name'].append(\"femur_l_geom_1\"); ref_geom_dic['Mesh file'].append(os.path.join('bones\\\\femur_l.stl'))\n",
    "\n",
    "ref_geom_dic['body'].append(\"tibia_r\"); ref_geom_dic['Mesh name'].append(\"tibia_r_geom_1\"); ref_geom_dic['Mesh file'].append(os.path.join('bones\\\\tibia_r.stl'))\n",
    "ref_geom_dic['body'].append(\"tibia_r\"); ref_geom_dic['Mesh name'].append(\"tibia_r_geom_2\"); ref_geom_dic['Mesh file'].append(os.path.join('bones\\\\fibula_r.stl'))\n",
    "\n",
    "ref_geom_dic['body'].append(\"tibia_l\"); ref_geom_dic['Mesh name'].append(\"tibia_l_geom_1\"); ref_geom_dic['Mesh file'].append(os.path.join('bones\\\\tibia_l.stl'))\n",
    "ref_geom_dic['body'].append(\"tibia_l\"); ref_geom_dic['Mesh name'].append(\"tibia_l_geom_2\"); ref_geom_dic['Mesh file'].append(os.path.join('bones\\\\fibula_l.stl'))\n",
    "\n",
    "ref_geom_dic['body'].append(\"patella_r\"); ref_geom_dic['Mesh name'].append(\"patella_r_geom_1\"); ref_geom_dic['Mesh file'].append(os.path.join('bones\\\\patella_r.stl'))\n",
    "ref_geom_dic['body'].append(\"patella_l\"); ref_geom_dic['Mesh name'].append(\"patella_l_geom_1\"); ref_geom_dic['Mesh file'].append(os.path.join('bones\\\\patella_l.stl'))"
   ]
  },
  {
   "cell_type": "code",
   "execution_count": 15,
   "metadata": {},
   "outputs": [],
   "source": [
    "ref_geom_df = pd.DataFrame(ref_geom_dic).set_index('Mesh name')"
   ]
  },
  {
   "cell_type": "code",
   "execution_count": 16,
   "metadata": {},
   "outputs": [],
   "source": [
    "for Mesh in root.iter('Mesh'):\n",
    "    point = Mesh.attrib['name']\n",
    "    if point in ref_geom_df.index:\n",
    "        new_text = ref_geom_df.loc[point, 'Mesh file']\n",
    "        # print(point, new_text)\n",
    "        Mesh.find('mesh_file').text = new_text\n",
    "        Mesh.find('scale_factors').text = '1 1 1'\n",
    "    else: pass"
   ]
  },
  {
   "cell_type": "markdown",
   "metadata": {},
   "source": [
    "### Update muscle paths"
   ]
  },
  {
   "cell_type": "code",
   "execution_count": 17,
   "metadata": {},
   "outputs": [],
   "source": [
    "muscle_path_names = []\n",
    "muscle_path_old = []\n",
    "muscle_path_new = []\n",
    "\n",
    "for PathPoint in root.iter('PathPoint'):\n",
    "    point = PathPoint.attrib['name']   \n",
    "    if point in mscles_df.index:      \n",
    "        \n",
    "        location = mscles_df.loc[point, 'location']\n",
    "        new_text = location[1:-1]\n",
    "        muscle_path_names.append(point)\n",
    "        muscle_path_new.append(new_text)\n",
    "        muscle_path_old.append(PathPoint.find('location').text)\n",
    "\n",
    "        PathPoint.find('location').text = new_text\n",
    "    else: pass"
   ]
  },
  {
   "cell_type": "code",
   "execution_count": 18,
   "metadata": {},
   "outputs": [],
   "source": [
    "muscle_path_new_df = pd.DataFrame([[float(i) for i in point.split()] for point in muscle_path_new], index=muscle_path_names, columns=['x','y','z'])\n",
    "muscle_path_old_df = pd.DataFrame([[float(i) for i in point.split()] for point in muscle_path_old], index=muscle_path_names, columns=['x','y','z'])\n",
    "\n",
    "muscle_path_diff_df = muscle_path_old_df - muscle_path_new_df\n",
    "muscle_path_diff_df['d'] = (muscle_path_diff_df['x']**2+muscle_path_diff_df['y']**2+muscle_path_diff_df['z']**2)**0.5"
   ]
  },
  {
   "cell_type": "markdown",
   "metadata": {},
   "source": [
    "### Update muscle wrapping surfaces"
   ]
  },
  {
   "cell_type": "code",
   "execution_count": 19,
   "metadata": {},
   "outputs": [],
   "source": [
    "wrap_cyl_name = []\n",
    "wrap_transl_old = []\n",
    "wrap_transl_new = []\n",
    "wrap_radius_old = []\n",
    "wrap_radius_new = []"
   ]
  },
  {
   "cell_type": "code",
   "execution_count": 20,
   "metadata": {},
   "outputs": [],
   "source": [
    "for WrapCylinder in root.iter('WrapCylinder'):\n",
    "    point = WrapCylinder.attrib['name']\n",
    "    wrap_cyl_name.append(point)\n",
    "\n",
    "    if point in wrp_df.index:\n",
    "        translation = wrp_df.loc[point, 'location']\n",
    "        wrap_transl_new.append(translation)\n",
    "        wrap_transl_old.append(WrapCylinder.find('translation').text)\n",
    "        WrapCylinder.find('translation').text = translation[1:-1]\n",
    "\n",
    "    else: pass"
   ]
  },
  {
   "cell_type": "markdown",
   "metadata": {},
   "source": [
    "### Update Translation of joint centres"
   ]
  },
  {
   "cell_type": "code",
   "execution_count": 21,
   "metadata": {},
   "outputs": [],
   "source": [
    "torso_origin_in_pelvis = markers_df.loc['torso_origin_in_pelvis', 'location']\n",
    "\n",
    "femur_r_center_in_pelvis = markers_df.loc['femur_r_center_in_pelvis', 'location']\n",
    "femur_l_center_in_pelvis = markers_df.loc['femur_l_center_in_pelvis', 'location']\n",
    "knee_l_center_in_femur = markers_df.loc['knee_l_center_in_femur_l', 'location']\n",
    "knee_r_center_in_femur = markers_df.loc['knee_r_center_in_femur_r', 'location']\n",
    "patella_l_center_in_femur = markers_df.loc['patella_l_in_femur_l', 'location']\n",
    "patella_r_center_in_femur = markers_df.loc['patella_r_in_femur_r', 'location']\n",
    "\n",
    "talus_l_center_in_tibia = markers_df.loc['talus_l_center_in_tibia', 'location']\n",
    "talus_r_center_in_tibia = markers_df.loc['talus_r_center_in_tibia', 'location']"
   ]
  },
  {
   "cell_type": "code",
   "execution_count": 22,
   "metadata": {},
   "outputs": [],
   "source": [
    "joint_centers_names = []\n",
    "joint_centers_new = []\n",
    "joint_centers_old = []\n",
    "\n",
    "for joint in root.iter('CustomJoint'):\n",
    "    \n",
    "    name = joint.attrib['name']\n",
    "    if joint.attrib['name'] ==  \"back\":\n",
    "        for frame in joint.iter('PhysicalOffsetFrame'):\n",
    "            if frame.attrib['name'] == \"pelvis_offset\":\n",
    "                new_text = torso_origin_in_pelvis[1:-1]\n",
    "                joint_centers_names.append(\"back\")\n",
    "                joint_centers_new.append(new_text)\n",
    "                joint_centers_old.append(frame.find('translation').text)\n",
    "                frame.find('translation').text = new_text\n",
    "\n",
    "            else: pass\n",
    "\n",
    "    if joint.attrib['name'] ==  \"hip_r\":\n",
    "        for frame in joint.iter('PhysicalOffsetFrame'):\n",
    "            if frame.attrib['name'] == \"pelvis_offset\":                \n",
    "                new_text = femur_r_center_in_pelvis[1:-1]\n",
    "                joint_centers_names.append(\"hip_r\")\n",
    "                joint_centers_new.append(new_text)\n",
    "                joint_centers_old.append(frame.find('translation').text)           \n",
    "                frame.find('translation').text = new_text\n",
    "\n",
    "            else: pass\n",
    "    \n",
    "    elif joint.attrib['name'] ==  \"hip_l\":\n",
    "        for frame in joint.iter('PhysicalOffsetFrame'):\n",
    "            if frame.attrib['name'] == \"pelvis_offset\":\n",
    "                new_text = femur_l_center_in_pelvis[1:-1]\n",
    "                joint_centers_names.append(\"hip_l\")\n",
    "                joint_centers_new.append(new_text)\n",
    "                joint_centers_old.append(frame.find('translation').text)\n",
    "                frame.find('translation').text = new_text\n",
    "            else: pass\n",
    "            \n",
    "    elif joint.attrib['name'] ==  \"walker_knee_r\":\n",
    "        for frame in joint.iter('PhysicalOffsetFrame'):\n",
    "            if frame.attrib['name'] == \"femur_r_offset\":\n",
    "                new_text = knee_r_center_in_femur[1:-1]\n",
    "                joint_centers_names.append(\"walker_knee_r\")\n",
    "                joint_centers_new.append(new_text)\n",
    "                joint_centers_old.append(frame.find('translation').text)\n",
    "                frame.find('translation').text = new_text\n",
    "\n",
    "            #if frame.attrib['name'] == \"tibia_r_offset\":\n",
    "            #    new_text = f\"{walker_knee_r_tibia_r_offset[0]}, {walker_knee_r_tibia_r_offset[1]}, {walker_knee_r_tibia_r_offset[2]}\"\n",
    "            #    frame.find('translation').text = new_text\n",
    "            else: pass    \n",
    "    \n",
    "    elif joint.attrib['name'] ==  \"walker_knee_l\":\n",
    "        for frame in joint.iter('PhysicalOffsetFrame'):\n",
    "            if frame.attrib['name'] == \"femur_l_offset\":\n",
    "                new_text = knee_l_center_in_femur[1:-1]\n",
    "                joint_centers_names.append(\"walker_knee_l\")\n",
    "                joint_centers_new.append(new_text)\n",
    "                joint_centers_old.append(frame.find('translation').text)\n",
    "                frame.find('translation').text = new_text\n",
    "\n",
    "    #        if frame.attrib['name'] == \"tibia_l_offset\":\n",
    "    #            new_text = f\"{walker_knee_l_tibia_l_offset[0]}, {walker_knee_l_tibia_l_offset[1]}, {walker_knee_l_tibia_l_offset[2]}\"\n",
    "    #            frame.find('translation').text = new_text\n",
    "            else: pass\n",
    "\n",
    "    elif joint.attrib['name'] ==  \"patellofemoral_r\":\n",
    "       for frame in joint.iter('PhysicalOffsetFrame'):\n",
    "           if frame.attrib['name'] == \"femur_r_offset\":               \n",
    "                new_text = knee_r_center_in_femur[1:-1]\n",
    "                joint_centers_names.append(\"patellofemoral_r\")\n",
    "                joint_centers_new.append(new_text)\n",
    "                joint_centers_old.append(frame.find('translation').text)\n",
    "                frame.find('translation').text = new_text\n",
    "           else: pass\n",
    "    \n",
    "    elif joint.attrib['name'] ==  \"patellofemoral_l\":\n",
    "       for frame in joint.iter('PhysicalOffsetFrame'):\n",
    "           if frame.attrib['name'] == \"femur_l_offset\":              \n",
    "                new_text = knee_l_center_in_femur[1:-1]\n",
    "                joint_centers_names.append(\"patellofemoral_l\")\n",
    "                joint_centers_new.append(new_text)\n",
    "                joint_centers_old.append(frame.find('translation').text)\n",
    "                frame.find('translation').text = new_text\n",
    "           else: pass\n",
    "\n",
    "for joint in root.iter('PinJoint'):   \n",
    "    name = joint.attrib['name']\n",
    "    if joint.attrib['name'] ==  \"ankle_r\":\n",
    "       for frame in joint.iter('PhysicalOffsetFrame'):\n",
    "           if frame.attrib['name'] == \"tibia_r_offset\":              \n",
    "                new_text = talus_r_center_in_tibia [1:-1]\n",
    "                joint_centers_names.append(\"ankle_r\")\n",
    "                joint_centers_new.append(new_text)\n",
    "                joint_centers_old.append(frame.find('translation').text)\n",
    "                frame.find('translation').text = new_text\n",
    "           else: pass\n",
    "    \n",
    "    elif joint.attrib['name'] ==  \"ankle_l\":\n",
    "       for frame in joint.iter('PhysicalOffsetFrame'):\n",
    "           if frame.attrib['name'] == \"tibia_l_offset\":              \n",
    "                new_text = talus_r_center_in_tibia [1:-1]              \n",
    "                joint_centers_names.append(\"ankle_r\")\n",
    "                joint_centers_new.append(new_text)\n",
    "                joint_centers_old.append(frame.find('translation').text)              \n",
    "                frame.find('translation').text = new_text\n",
    "           else: pass\n",
    "    else: pass"
   ]
  },
  {
   "cell_type": "markdown",
   "metadata": {},
   "source": [
    "### Update Markers for Joint Positions in Parent"
   ]
  },
  {
   "cell_type": "code",
   "execution_count": 23,
   "metadata": {},
   "outputs": [],
   "source": [
    "m_names = ['torso_origin_in_pelvis','femur_l_center_in_pelvis', 'femur_r_center_in_pelvis',  'knee_l_center_in_femur_l', 'patella_l_in_femur_l', 'knee_r_center_in_femur_r', 'patella_r_in_femur_r']\n",
    "\n",
    "for marker in root.iter('Marker'):\n",
    "    name = marker.attrib['name']\n",
    "    if name == 'ankle_l_tibia_l_offset':\n",
    "        old_text = marker.find('location').text\n",
    "        new_text = markers_df.loc['talus_l_center_in_tibia', 'location']\n",
    "        marker.find('location').text = new_text[1:-1]\n",
    "    elif name == 'ankle_r_tibia_r_offset':\n",
    "        old_text = marker.find('location').text\n",
    "        new_text = markers_df.loc['talus_r_center_in_tibia', 'location']\n",
    "        marker.find('location').text = new_text[1:-1]\n",
    "    elif name in m_names:\n",
    "        old_text = marker.find('location').text\n",
    "        new_text = markers_df.loc[name, 'location']\n",
    "        marker.find('location').text = new_text[1:-1]"
   ]
  },
  {
   "cell_type": "markdown",
   "metadata": {},
   "source": [
    "### Uldate Skin Markers"
   ]
  },
  {
   "cell_type": "code",
   "execution_count": 24,
   "metadata": {},
   "outputs": [],
   "source": [
    "for marker in root.iter('Marker'):\n",
    "    name = marker.attrib['name']\n",
    "    if name in list(skin_df.index):\n",
    "        old_text = marker.find('location').text\n",
    "        new_text = skin_df.loc[name, 'location']\n",
    "        marker.find('location').text = new_text[1:-1]\n",
    "    else: pass"
   ]
  },
  {
   "cell_type": "markdown",
   "metadata": {},
   "source": [
    "### Export transformed model"
   ]
  },
  {
   "cell_type": "code",
   "execution_count": 25,
   "metadata": {},
   "outputs": [],
   "source": [
    "tree.write(new_model)"
   ]
  },
  {
   "cell_type": "markdown",
   "metadata": {},
   "source": [
    "## Scale muscle fibres"
   ]
  },
  {
   "cell_type": "code",
   "execution_count": 26,
   "metadata": {},
   "outputs": [],
   "source": [
    "# from fibre_scale_script import *"
   ]
  },
  {
   "cell_type": "code",
   "execution_count": 27,
   "metadata": {},
   "outputs": [],
   "source": [
    "# # define models\n",
    "# generic_model = '../templates/RajagopalModified_generic_copy.osim'\n",
    "# model_to_update = f'final_results/tps_transformed.osim'\n",
    "# updated_model = f'final_results/tps_fibres_updated.osim'\n",
    "\n",
    "# # run scripts\n",
    "# osimModel_opt, SimInfo = optimMuscleParams(generic_model, model_to_update, 2, 'final_results/logging')\n",
    "\n",
    "# # printing the optimized model\n",
    "# osimModel_opt.printToXML(updated_model)"
   ]
  },
  {
   "cell_type": "markdown",
   "metadata": {},
   "source": [
    "## Move bone surfaces to the new model folder"
   ]
  },
  {
   "cell_type": "code",
   "execution_count": 28,
   "metadata": {},
   "outputs": [],
   "source": [
    "bones_folder = os.path.join(path_to_model, 'bones')\n",
    "if not os.path.exists(bones_folder):\n",
    "    print(bones_folder)\n",
    "    os.makedirs(bones_folder)"
   ]
  },
  {
   "cell_type": "code",
   "execution_count": 29,
   "metadata": {},
   "outputs": [],
   "source": [
    "# this code moves the bones from the TPS folder to the bones folder\n",
    "\n",
    "for file in os.listdir(tps_folder):\n",
    "    if file.endswith('.stl'):\n",
    "        old_path = os.path.join(tps_folder, file)\n",
    "        new_path = os.path.join(bones_folder, file)\n",
    "        print(old_path, new_path)\n",
    "        os.rename(old_path, new_path)"
   ]
  },
  {
   "cell_type": "markdown",
   "metadata": {},
   "source": [
    "## Fit skin markers"
   ]
  },
  {
   "cell_type": "markdown",
   "metadata": {},
   "source": [
    "<div class=\"alert alert-block alert-info\">\n",
    "<b>Before the final Skin Marker Fitting</b> please open model \"final_results/tps_transformed.osim\". Save the skin landmarks in a 'markers.xml' file."
   ]
  },
  {
   "cell_type": "code",
   "execution_count": 30,
   "metadata": {},
   "outputs": [],
   "source": [
    "## Fit Skin Markers\n",
    "# <model_file>\n",
    "model = new_model # f'final_results/tps_fibres_updated.osim'\n",
    "\n",
    "# <time_range>'\n",
    "time_range = f' 0 {list(static_df.loc[static_df.shape[0], \"Time\"])[0] }'\n",
    "\n",
    "# <output_scale_file>\n",
    "path_to_model = '../final_results/personalized'\n",
    "output_scale_file = os.path.join(path_to_model, 'marker_placer.txt')\n",
    "output_scaling_settings = os.path.join(path_to_model, f'marker_placer.xml')\n",
    "output_model_file = os.path.join(path_to_model, f'tps_skin_updated.osim')\n",
    "\n",
    "# <marker_set_file>\n",
    "path_to_marker_set = os.path.join(path_to_model, 'markers.xml')"
   ]
  },
  {
   "cell_type": "code",
   "execution_count": 31,
   "metadata": {},
   "outputs": [],
   "source": [
    "# C:\\Users\\User\\OneDrive\\Documents\\WORK\\JRF_GaitAnalysis\\modelling_paper\\repo\\folder\\final_results\\personalized\\markers.xml"
   ]
  },
  {
   "cell_type": "code",
   "execution_count": 32,
   "metadata": {},
   "outputs": [],
   "source": [
    "# parse the .xml with markers in body frames\n",
    "scaling_tree=ET.parse(\"../templates/marker_placer.xml\")\n",
    "scaling_root = scaling_tree.getroot()\n",
    "\n",
    "for generic_model in scaling_root.iter('model_file'):\n",
    "    generic_model.text = model\n",
    "for generic_marker_set in scaling_root.iter('marker_set_file'):\n",
    "    generic_marker_set.text = path_to_marker_set\n",
    "\n",
    "for exp_markers in scaling_root.iter('marker_file'):\n",
    "    exp_markers.text = experimental_markers\n",
    "\n",
    "for time in scaling_root.iter('time_range'):\n",
    "    time.text = time_range\n",
    "for output in scaling_root.iter('output_model_file'):\n",
    "    output.text = output_model_file\n",
    "for scale in scaling_root.iter('output_scale_file'):\n",
    "    scale.text = output_scale_file\n",
    "for generic_marker_set in scaling_root.iter('marker_set_file'):\n",
    "    generic_marker_set.text = path_to_marker_set\n",
    "\n",
    "for time in scaling_root.iter('time_range'):\n",
    "    time.text = time_range\n",
    "for output in scaling_root.iter('output_model_file'):\n",
    "    output.text = output_model_file\n",
    "for scale in scaling_root.iter('output_scale_file'):\n",
    "    scale.text = output_scale_file"
   ]
  },
  {
   "cell_type": "code",
   "execution_count": 33,
   "metadata": {},
   "outputs": [],
   "source": [
    "scaling_tree.write(output_scaling_settings)"
   ]
  },
  {
   "cell_type": "code",
   "execution_count": 34,
   "metadata": {},
   "outputs": [
    {
     "name": "stderr",
     "output_type": "stream",
     "text": [
      "c:\\Users\\User\\miniconda3\\envs\\py311\\Lib\\subprocess.py:1016: RuntimeWarning: line buffering (buffering=1) isn't supported in binary mode, the default buffer size will be used\n",
      "  self.stdout = io.open(c2pread, 'rb', bufsize)\n"
     ]
    },
    {
     "name": "stdout",
     "output_type": "stream",
     "text": [
      "[info] Preparing to run ScaleTool.\n",
      "\n",
      "[info] Processing subject Rajagopal-generic-scaled-scaled...\n",
      "\n",
      "[info] Step 1: Loading generic model\n",
      "\n",
      "[info] Loaded model Rajagopal-generic-scaled from file c:\\Users\\User\\OneDrive\\Documents\\WORK\\JRF_GaitAnalysis\\modelling_paper\\repo\\folder\\final_results\\personalized\\tps_transformed.osim\n",
      "\n",
      "[warning] Couldn't find file 'r_talus.vtp'.\n",
      "\n",
      "[warning] Couldn't find file 'r_foot.vtp'.\n",
      "\n",
      "[warning] Couldn't find file 'r_bofoot.vtp'.\n",
      "\n",
      "[warning] Couldn't find file 'l_talus.vtp'.\n",
      "\n",
      "[warning] Couldn't find file 'l_foot.vtp'.\n",
      "\n",
      "[warning] Couldn't find file 'l_bofoot.vtp'.\n",
      "\n",
      "[warning] Couldn't find file 'hat_spine.vtp'.\n",
      "\n",
      "[warning] Couldn't find file 'hat_jaw.vtp'.\n",
      "\n",
      "[warning] Couldn't find file 'hat_skull.vtp'.\n",
      "\n",
      "[warning] Couldn't find file 'hat_ribs_scap.vtp'.\n",
      "\n",
      "[info] Loading marker set from '../final_results/personalized\\markers.xml'.\n",
      "\n",
      "[info] Updated markers in model Rajagopal-generic-scaled\n",
      "\n",
      "[error] Scaling parameters disabled (apply is false) or not set. Model is not scaled.\n",
      "\n",
      "[info] Step 3: Placing markers on model\n",
      "\n",
      "[info] Loaded marker file ../motion_lab/static/Static03/task.trc (40 markers, 445 frames)\n",
      "\n",
      "[info] Averaged frames from time 0.0 to 2.22 in ../motion_lab/static/Static03/task.trc (frames 1 to 445)\n",
      "\n",
      "[info] Deleted 9 unused markers from model Rajagopal-generic-scaled-scaled.\n",
      "\n",
      "[info] Frame at (t = 0.0):\t total squared error = 0.00732916, marker error: RMS = 0.017851, max = 0.0312183 (RMKNE)\n",
      "\n",
      "[info] Moved markers in model Rajagopal-generic-scaled-scaled to match locations in marker file '../motion_lab/static/Static03/task.trc'.\n",
      "\n",
      "[info] Wrote model file '../final_results/personalized\\tps_skin_updated.osim' from model Rajagopal-generic-scaled-scaled.\n",
      "\n",
      "\n",
      "Return code:  None \n",
      "\n"
     ]
    }
   ],
   "source": [
    "from simFunctions import runProgram\n",
    "\n",
    "cmdprog = 'opensim-cmd'\n",
    "cmdtool = 'run-tool'\n",
    "cmdfile = output_scaling_settings\n",
    "cmdfull = [cmdprog, cmdtool, cmdfile]\n",
    "rc = runProgram(cmdfull)"
   ]
  },
  {
   "cell_type": "markdown",
   "metadata": {},
   "source": [
    "## Update Wrapping Surfaces"
   ]
  },
  {
   "cell_type": "code",
   "execution_count": 35,
   "metadata": {},
   "outputs": [
    {
     "name": "stdout",
     "output_type": "stream",
     "text": [
      "PECT_at_femshaft_r is NOT present\n",
      "PECT_at_femshaft_l is NOT present\n"
     ]
    }
   ],
   "source": [
    "from wrap_scripts import *\n",
    "\n",
    "model_to_update = output_model_file\n",
    "updated_model = os.path.join(path_to_model, 'tps_skin_wrp_updated.osim')\n",
    "\n",
    "# function to extract muscle paths, wrapping surfaces info and joint info from an osim model\n",
    "# returns three dataframes: muscles, surfaces and joints\n",
    "fix_wraps = FixWraps(model_to_update)"
   ]
  },
  {
   "cell_type": "code",
   "execution_count": 36,
   "metadata": {},
   "outputs": [],
   "source": [
    "wrp_adjust_dict = fix_wraps.collect_wrp_details()\n",
    "wrp_adjust_df = pd.DataFrame.from_dict(wrp_adjust_dict)\n",
    "wrp_adjust_df.set_index(pd.Index(['body', 'transl', 'rad', 'point_label', 'point', 'point_body', 'joint_location', 'joint_location+point', 'dist_to_transl',  'dist']), inplace = True)\n"
   ]
  },
  {
   "cell_type": "code",
   "execution_count": 37,
   "metadata": {},
   "outputs": [
    {
     "data": {
      "text/html": [
       "<div>\n",
       "<style scoped>\n",
       "    .dataframe tbody tr th:only-of-type {\n",
       "        vertical-align: middle;\n",
       "    }\n",
       "\n",
       "    .dataframe tbody tr th {\n",
       "        vertical-align: top;\n",
       "    }\n",
       "\n",
       "    .dataframe thead th {\n",
       "        text-align: right;\n",
       "    }\n",
       "</style>\n",
       "<table border=\"1\" class=\"dataframe\">\n",
       "  <thead>\n",
       "    <tr style=\"text-align: right;\">\n",
       "      <th></th>\n",
       "      <th>KnExt_at_fem_r</th>\n",
       "      <th>AL_at_femshaft_r</th>\n",
       "      <th>AMmid_at_femshaft_r</th>\n",
       "      <th>AMdist_at_femshaft_r</th>\n",
       "      <th>GR_at_condyles_r</th>\n",
       "      <th>SM_at_condyles_r</th>\n",
       "      <th>ST_at_condyles_r</th>\n",
       "      <th>KnExt_at_fem_l</th>\n",
       "      <th>AL_at_femshaft_l</th>\n",
       "      <th>AMmid_at_femshaft_l</th>\n",
       "      <th>AMdist_at_femshaft_l</th>\n",
       "      <th>GR_at_condyles_l</th>\n",
       "    </tr>\n",
       "  </thead>\n",
       "  <tbody>\n",
       "    <tr>\n",
       "      <th>body</th>\n",
       "      <td>femur_r</td>\n",
       "      <td>femur_r</td>\n",
       "      <td>femur_r</td>\n",
       "      <td>femur_r</td>\n",
       "      <td>tibia_r</td>\n",
       "      <td>tibia_r</td>\n",
       "      <td>tibia_r</td>\n",
       "      <td>femur_l</td>\n",
       "      <td>femur_l</td>\n",
       "      <td>femur_l</td>\n",
       "      <td>femur_l</td>\n",
       "      <td>tibia_l</td>\n",
       "    </tr>\n",
       "    <tr>\n",
       "      <th>transl</th>\n",
       "      <td>[0.00314306150831891, -0.37600315010031404, 0.00175886214292241]</td>\n",
       "      <td>[0.01574980555060338, -0.22823577256076566, 0.01510446691923355]</td>\n",
       "      <td>[0.00842201976599103, -0.16004377204655482, 0.01711809734724726]</td>\n",
       "      <td>[0.01714125644725882, -0.2549686309592464, 0.00863137229154371]</td>\n",
       "      <td>[-0.00020923429545877, -0.01887869903246033, -0.00445312817626044]</td>\n",
       "      <td>[0.0017132871004124, -0.01869121119155844, -0.00456983288642663]</td>\n",
       "      <td>[0.00076223618292591, -0.01923843935986596, -0.00449914412421515]</td>\n",
       "      <td>[0.00317467500776376, -0.3854617207579414, -0.00160854935011082]</td>\n",
       "      <td>[0.01517001207756495, -0.23238259593241845, -0.01257223800735108]</td>\n",
       "      <td>[0.00992149729192922, -0.1620065692977843, -0.0138008094769766]</td>\n",
       "      <td>[0.01644424974394348, -0.2600582539914958, -0.0061505703961273]</td>\n",
       "      <td>[0.0001919148955059, -0.01852500383643542, 0.00488763128890686]</td>\n",
       "    </tr>\n",
       "    <tr>\n",
       "      <th>rad</th>\n",
       "      <td>0.022032</td>\n",
       "      <td>0.017714</td>\n",
       "      <td>0.01886</td>\n",
       "      <td>0.019212</td>\n",
       "      <td>0.036301</td>\n",
       "      <td>0.035495</td>\n",
       "      <td>0.042856</td>\n",
       "      <td>0.022025</td>\n",
       "      <td>0.017708</td>\n",
       "      <td>0.018854</td>\n",
       "      <td>0.019206</td>\n",
       "      <td>0.034719</td>\n",
       "    </tr>\n",
       "    <tr>\n",
       "      <th>point_label</th>\n",
       "      <td>vasmed_r-P4</td>\n",
       "      <td>addlong_r-P2</td>\n",
       "      <td>addmagMid_r-P2</td>\n",
       "      <td>addmagDist_r-P2</td>\n",
       "      <td>grac_r-P2</td>\n",
       "      <td>semimem_r-P2</td>\n",
       "      <td>semiten_r-P2</td>\n",
       "      <td>vasmed_l-P4</td>\n",
       "      <td>addlong_l-P2</td>\n",
       "      <td>addmagMid_l-P2</td>\n",
       "      <td>addmagDist_l-P2</td>\n",
       "      <td>grac_l-P2</td>\n",
       "    </tr>\n",
       "    <tr>\n",
       "      <th>point</th>\n",
       "      <td>[0.0042723776651347, 0.00056169675812998, -0.00898099840139701]</td>\n",
       "      <td>[-0.00092934322061682, -0.22905040384712896, 0.01724074162700127]</td>\n",
       "      <td>[-0.00892094305894815, -0.15510553087317028, 0.02207677161954296]</td>\n",
       "      <td>[0.0012964841847472, -0.2500480436318325, 0.01866323718723147]</td>\n",
       "      <td>[-0.01564150750149277, -0.04413912467070307, -0.03568772555701195]</td>\n",
       "      <td>[-0.02583914910330903, -0.04009380781422328, -0.02441131809406939]</td>\n",
       "      <td>[-0.02823733162021216, -0.0484028621359719, -0.02800727724058282]</td>\n",
       "      <td>[0.00537227374387187, 0.00091982195801529, 0.00963392159083718]</td>\n",
       "      <td>[-0.00159097334534871, -0.23422298058515253, -0.01533013591417016]</td>\n",
       "      <td>[-0.00599554260817617, -0.15806054084491553, -0.01853636481395198]</td>\n",
       "      <td>[0.00112842484708558, -0.25597458892729275, -0.01700726894361809]</td>\n",
       "      <td>[-0.01595907619612909, -0.04262780621579532, 0.03747710342173392]</td>\n",
       "    </tr>\n",
       "    <tr>\n",
       "      <th>point_body</th>\n",
       "      <td>patella_r</td>\n",
       "      <td>femur_r</td>\n",
       "      <td>femur_r</td>\n",
       "      <td>femur_r</td>\n",
       "      <td>tibia_r</td>\n",
       "      <td>tibia_r</td>\n",
       "      <td>tibia_r</td>\n",
       "      <td>patella_l</td>\n",
       "      <td>femur_l</td>\n",
       "      <td>femur_l</td>\n",
       "      <td>femur_l</td>\n",
       "      <td>tibia_l</td>\n",
       "    </tr>\n",
       "    <tr>\n",
       "      <th>joint_location</th>\n",
       "      <td>[-8.228793978736e-05, 0.3765536174467907, 0.00140927123719597]</td>\n",
       "      <td>[0, 0, 0]</td>\n",
       "      <td>[0, 0, 0]</td>\n",
       "      <td>[0, 0, 0]</td>\n",
       "      <td>[0, 0, 0]</td>\n",
       "      <td>[0, 0, 0]</td>\n",
       "      <td>[0, 0, 0]</td>\n",
       "      <td>[-7.896905263737e-05, 0.38581476414165355, -0.00140648103639067]</td>\n",
       "      <td>[0, 0, 0]</td>\n",
       "      <td>[0, 0, 0]</td>\n",
       "      <td>[0, 0, 0]</td>\n",
       "      <td>[0, 0, 0]</td>\n",
       "    </tr>\n",
       "    <tr>\n",
       "      <th>joint_location+point</th>\n",
       "      <td>[0.00419008972534734, 0.3771153142049207, -0.00757172716420104]</td>\n",
       "      <td>[-0.00092934322061682, -0.22905040384712896, 0.01724074162700127]</td>\n",
       "      <td>[-0.00892094305894815, -0.15510553087317028, 0.02207677161954296]</td>\n",
       "      <td>[0.0012964841847472, -0.2500480436318325, 0.01866323718723147]</td>\n",
       "      <td>[-0.01564150750149277, -0.04413912467070307, -0.03568772555701195]</td>\n",
       "      <td>[-0.02583914910330903, -0.04009380781422328, -0.02441131809406939]</td>\n",
       "      <td>[-0.02823733162021216, -0.0484028621359719, -0.02800727724058282]</td>\n",
       "      <td>[0.0052933046912345, 0.3867345860996688, 0.00822744055444651]</td>\n",
       "      <td>[-0.00159097334534871, -0.23422298058515253, -0.01533013591417016]</td>\n",
       "      <td>[-0.00599554260817617, -0.15806054084491553, -0.01853636481395198]</td>\n",
       "      <td>[0.00112842484708558, -0.25597458892729275, -0.01700726894361809]</td>\n",
       "      <td>[-0.01595907619612909, -0.04262780621579532, 0.03747710342173392]</td>\n",
       "    </tr>\n",
       "    <tr>\n",
       "      <th>dist_to_transl</th>\n",
       "      <td>0.012209</td>\n",
       "      <td>0.016835</td>\n",
       "      <td>0.018702</td>\n",
       "      <td>0.019388</td>\n",
       "      <td>0.043033</td>\n",
       "      <td>0.040136</td>\n",
       "      <td>0.047373</td>\n",
       "      <td>0.012865</td>\n",
       "      <td>0.017086</td>\n",
       "      <td>0.017069</td>\n",
       "      <td>0.019212</td>\n",
       "      <td>0.043633</td>\n",
       "    </tr>\n",
       "    <tr>\n",
       "      <th>dist</th>\n",
       "      <td>0.001441</td>\n",
       "      <td>0.016796</td>\n",
       "      <td>0.01867</td>\n",
       "      <td>0.018711</td>\n",
       "      <td>0.031865</td>\n",
       "      <td>0.035401</td>\n",
       "      <td>0.042199</td>\n",
       "      <td>0.002625</td>\n",
       "      <td>0.016946</td>\n",
       "      <td>0.017009</td>\n",
       "      <td>0.018169</td>\n",
       "      <td>0.031523</td>\n",
       "    </tr>\n",
       "  </tbody>\n",
       "</table>\n",
       "</div>"
      ],
      "text/plain": [
       "                                                                        KnExt_at_fem_r  \\\n",
       "body                                                                           femur_r   \n",
       "transl                [0.00314306150831891, -0.37600315010031404, 0.00175886214292241]   \n",
       "rad                                                                           0.022032   \n",
       "point_label                                                                vasmed_r-P4   \n",
       "point                  [0.0042723776651347, 0.00056169675812998, -0.00898099840139701]   \n",
       "point_body                                                                   patella_r   \n",
       "joint_location          [-8.228793978736e-05, 0.3765536174467907, 0.00140927123719597]   \n",
       "joint_location+point   [0.00419008972534734, 0.3771153142049207, -0.00757172716420104]   \n",
       "dist_to_transl                                                                0.012209   \n",
       "dist                                                                          0.001441   \n",
       "\n",
       "                                                                       AL_at_femshaft_r  \\\n",
       "body                                                                            femur_r   \n",
       "transl                 [0.01574980555060338, -0.22823577256076566, 0.01510446691923355]   \n",
       "rad                                                                            0.017714   \n",
       "point_label                                                                addlong_r-P2   \n",
       "point                 [-0.00092934322061682, -0.22905040384712896, 0.01724074162700127]   \n",
       "point_body                                                                      femur_r   \n",
       "joint_location                                                                [0, 0, 0]   \n",
       "joint_location+point  [-0.00092934322061682, -0.22905040384712896, 0.01724074162700127]   \n",
       "dist_to_transl                                                                 0.016835   \n",
       "dist                                                                           0.016796   \n",
       "\n",
       "                                                                    AMmid_at_femshaft_r  \\\n",
       "body                                                                            femur_r   \n",
       "transl                 [0.00842201976599103, -0.16004377204655482, 0.01711809734724726]   \n",
       "rad                                                                             0.01886   \n",
       "point_label                                                              addmagMid_r-P2   \n",
       "point                 [-0.00892094305894815, -0.15510553087317028, 0.02207677161954296]   \n",
       "point_body                                                                      femur_r   \n",
       "joint_location                                                                [0, 0, 0]   \n",
       "joint_location+point  [-0.00892094305894815, -0.15510553087317028, 0.02207677161954296]   \n",
       "dist_to_transl                                                                 0.018702   \n",
       "dist                                                                            0.01867   \n",
       "\n",
       "                                                                 AMdist_at_femshaft_r  \\\n",
       "body                                                                          femur_r   \n",
       "transl                [0.01714125644725882, -0.2549686309592464, 0.00863137229154371]   \n",
       "rad                                                                          0.019212   \n",
       "point_label                                                           addmagDist_r-P2   \n",
       "point                  [0.0012964841847472, -0.2500480436318325, 0.01866323718723147]   \n",
       "point_body                                                                    femur_r   \n",
       "joint_location                                                              [0, 0, 0]   \n",
       "joint_location+point   [0.0012964841847472, -0.2500480436318325, 0.01866323718723147]   \n",
       "dist_to_transl                                                               0.019388   \n",
       "dist                                                                         0.018711   \n",
       "\n",
       "                                                                        GR_at_condyles_r  \\\n",
       "body                                                                             tibia_r   \n",
       "transl                [-0.00020923429545877, -0.01887869903246033, -0.00445312817626044]   \n",
       "rad                                                                             0.036301   \n",
       "point_label                                                                    grac_r-P2   \n",
       "point                 [-0.01564150750149277, -0.04413912467070307, -0.03568772555701195]   \n",
       "point_body                                                                       tibia_r   \n",
       "joint_location                                                                 [0, 0, 0]   \n",
       "joint_location+point  [-0.01564150750149277, -0.04413912467070307, -0.03568772555701195]   \n",
       "dist_to_transl                                                                  0.043033   \n",
       "dist                                                                            0.031865   \n",
       "\n",
       "                                                                        SM_at_condyles_r  \\\n",
       "body                                                                             tibia_r   \n",
       "transl                  [0.0017132871004124, -0.01869121119155844, -0.00456983288642663]   \n",
       "rad                                                                             0.035495   \n",
       "point_label                                                                 semimem_r-P2   \n",
       "point                 [-0.02583914910330903, -0.04009380781422328, -0.02441131809406939]   \n",
       "point_body                                                                       tibia_r   \n",
       "joint_location                                                                 [0, 0, 0]   \n",
       "joint_location+point  [-0.02583914910330903, -0.04009380781422328, -0.02441131809406939]   \n",
       "dist_to_transl                                                                  0.040136   \n",
       "dist                                                                            0.035401   \n",
       "\n",
       "                                                                       ST_at_condyles_r  \\\n",
       "body                                                                            tibia_r   \n",
       "transl                [0.00076223618292591, -0.01923843935986596, -0.00449914412421515]   \n",
       "rad                                                                            0.042856   \n",
       "point_label                                                                semiten_r-P2   \n",
       "point                 [-0.02823733162021216, -0.0484028621359719, -0.02800727724058282]   \n",
       "point_body                                                                      tibia_r   \n",
       "joint_location                                                                [0, 0, 0]   \n",
       "joint_location+point  [-0.02823733162021216, -0.0484028621359719, -0.02800727724058282]   \n",
       "dist_to_transl                                                                 0.047373   \n",
       "dist                                                                           0.042199   \n",
       "\n",
       "                                                                        KnExt_at_fem_l  \\\n",
       "body                                                                           femur_l   \n",
       "transl                [0.00317467500776376, -0.3854617207579414, -0.00160854935011082]   \n",
       "rad                                                                           0.022025   \n",
       "point_label                                                                vasmed_l-P4   \n",
       "point                  [0.00537227374387187, 0.00091982195801529, 0.00963392159083718]   \n",
       "point_body                                                                   patella_l   \n",
       "joint_location        [-7.896905263737e-05, 0.38581476414165355, -0.00140648103639067]   \n",
       "joint_location+point     [0.0052933046912345, 0.3867345860996688, 0.00822744055444651]   \n",
       "dist_to_transl                                                                0.012865   \n",
       "dist                                                                          0.002625   \n",
       "\n",
       "                                                                        AL_at_femshaft_l  \\\n",
       "body                                                                             femur_l   \n",
       "transl                 [0.01517001207756495, -0.23238259593241845, -0.01257223800735108]   \n",
       "rad                                                                             0.017708   \n",
       "point_label                                                                 addlong_l-P2   \n",
       "point                 [-0.00159097334534871, -0.23422298058515253, -0.01533013591417016]   \n",
       "point_body                                                                       femur_l   \n",
       "joint_location                                                                 [0, 0, 0]   \n",
       "joint_location+point  [-0.00159097334534871, -0.23422298058515253, -0.01533013591417016]   \n",
       "dist_to_transl                                                                  0.017086   \n",
       "dist                                                                            0.016946   \n",
       "\n",
       "                                                                     AMmid_at_femshaft_l  \\\n",
       "body                                                                             femur_l   \n",
       "transl                   [0.00992149729192922, -0.1620065692977843, -0.0138008094769766]   \n",
       "rad                                                                             0.018854   \n",
       "point_label                                                               addmagMid_l-P2   \n",
       "point                 [-0.00599554260817617, -0.15806054084491553, -0.01853636481395198]   \n",
       "point_body                                                                       femur_l   \n",
       "joint_location                                                                 [0, 0, 0]   \n",
       "joint_location+point  [-0.00599554260817617, -0.15806054084491553, -0.01853636481395198]   \n",
       "dist_to_transl                                                                  0.017069   \n",
       "dist                                                                            0.017009   \n",
       "\n",
       "                                                                   AMdist_at_femshaft_l  \\\n",
       "body                                                                            femur_l   \n",
       "transl                  [0.01644424974394348, -0.2600582539914958, -0.0061505703961273]   \n",
       "rad                                                                            0.019206   \n",
       "point_label                                                             addmagDist_l-P2   \n",
       "point                 [0.00112842484708558, -0.25597458892729275, -0.01700726894361809]   \n",
       "point_body                                                                      femur_l   \n",
       "joint_location                                                                [0, 0, 0]   \n",
       "joint_location+point  [0.00112842484708558, -0.25597458892729275, -0.01700726894361809]   \n",
       "dist_to_transl                                                                 0.019212   \n",
       "dist                                                                           0.018169   \n",
       "\n",
       "                                                                       GR_at_condyles_l  \n",
       "body                                                                            tibia_l  \n",
       "transl                  [0.0001919148955059, -0.01852500383643542, 0.00488763128890686]  \n",
       "rad                                                                            0.034719  \n",
       "point_label                                                                   grac_l-P2  \n",
       "point                 [-0.01595907619612909, -0.04262780621579532, 0.03747710342173392]  \n",
       "point_body                                                                      tibia_l  \n",
       "joint_location                                                                [0, 0, 0]  \n",
       "joint_location+point  [-0.01595907619612909, -0.04262780621579532, 0.03747710342173392]  \n",
       "dist_to_transl                                                                 0.043633  \n",
       "dist                                                                           0.031523  "
      ]
     },
     "execution_count": 37,
     "metadata": {},
     "output_type": "execute_result"
    }
   ],
   "source": [
    "wrp_adjust_df"
   ]
  },
  {
   "cell_type": "code",
   "execution_count": 38,
   "metadata": {},
   "outputs": [
    {
     "name": "stdout",
     "output_type": "stream",
     "text": [
      "KnExt_at_fem_r : vasmed_r-P4\n",
      "KnExt_at_fem_l : vasmed_l-P4\n"
     ]
    }
   ],
   "source": [
    "#print points whose location is too far into radius for an automatic adjustment\n",
    "manual = []\n",
    "for col in wrp_adjust_df.columns:\n",
    "    if wrp_adjust_df.loc['dist', col] < wrp_adjust_df.loc['rad', col]-0.01:\n",
    "        print(col, ':', wrp_adjust_df.loc['point_label', col])\n",
    "        manual.append(col)\n",
    "\n",
    "# ignore patella points for now\n",
    "# adjust other points or wrapping surfaces manually for the input model and run the script again"
   ]
  },
  {
   "cell_type": "code",
   "execution_count": 39,
   "metadata": {},
   "outputs": [
    {
     "name": "stdout",
     "output_type": "stream",
     "text": [
      "AL_at_femshaft_r\n",
      "old_radius 0.017713903482888104\n",
      "new_radius 0.016795938696337123\n",
      "AMmid_at_femshaft_r\n",
      "old_radius 0.018859578832527632\n",
      "new_radius 0.018670376445119128\n",
      "AMdist_at_femshaft_r\n",
      "old_radius 0.01921209432472441\n",
      "new_radius 0.01871073666457183\n",
      "GR_at_condyles_r\n",
      "old_radius 0.03630133624352623\n",
      "new_radius 0.031865304466425964\n",
      "SM_at_condyles_r\n",
      "old_radius 0.035494639882558986\n",
      "new_radius 0.03540066698424232\n",
      "ST_at_condyles_r\n",
      "old_radius 0.042855744176385144\n",
      "new_radius 0.04219900970353311\n",
      "AL_at_femshaft_l\n",
      "old_radius 0.017708383977866185\n",
      "new_radius 0.016946348229463126\n",
      "AMmid_at_femshaft_l\n",
      "old_radius 0.018853702344593846\n",
      "new_radius 0.017009479743465398\n",
      "AMdist_at_femshaft_l\n",
      "old_radius 0.019206107995894665\n",
      "new_radius 0.018168814513248217\n",
      "GR_at_condyles_l\n",
      "old_radius 0.03471898494989993\n",
      "new_radius 0.031522695072442396\n"
     ]
    }
   ],
   "source": [
    "# # update model\n",
    "tree_model = ET.parse(model_to_update)\n",
    "root = tree_model.getroot()\n",
    "\n",
    "wrp_to_change = [i for i in wrp_adjust_df.columns if i not in manual]\n",
    "\n",
    "for WrapCylinder in root.iter('WrapCylinder'):\n",
    "    name = WrapCylinder.attrib['name']\n",
    "    if name in wrp_to_change:\n",
    "        print(name)\n",
    "        radius = wrp_adjust_df.loc['rad', name]\n",
    "        print('old_radius', radius)\n",
    "        new_rad = wrp_adjust_df.loc['dist', name]\n",
    "        print('new_radius', new_rad)\n",
    "        radius_new_text = str(new_rad-0.01)\n",
    "        WrapCylinder.find('radius').text = radius_new_text\n",
    "\n",
    "tree_model.write(updated_model)"
   ]
  }
 ],
 "metadata": {
  "kernelspec": {
   "display_name": "py311",
   "language": "python",
   "name": "python3"
  },
  "language_info": {
   "codemirror_mode": {
    "name": "ipython",
    "version": 3
   },
   "file_extension": ".py",
   "mimetype": "text/x-python",
   "name": "python",
   "nbconvert_exporter": "python",
   "pygments_lexer": "ipython3",
   "version": "3.11.11"
  }
 },
 "nbformat": 4,
 "nbformat_minor": 2
}
